{
  "cells": [
    {
      "cell_type": "markdown",
      "metadata": {
        "id": "xJD0MHGLjI94"
      },
      "source": [
        "# Explore your data with visualization"
      ]
    },
    {
      "cell_type": "markdown",
      "metadata": {
        "id": "cbKKhcbYjI95"
      },
      "source": [
        "We will make:\n",
        "\n",
        "* ***Univariate*** plots\n",
        "   * Histograms\n",
        "   * Density Plots\n",
        "   * Box and Whisker Plots\n",
        "* ***Multivariate*** plots"
      ]
    },
    {
      "cell_type": "markdown",
      "metadata": {
        "id": "WhWbK5wZjN0-"
      },
      "source": [
        "## Import the data"
      ]
    },
    {
      "cell_type": "code",
      "execution_count": null,
      "metadata": {
        "id": "9OSHxmkzjPgo"
      },
      "outputs": [],
      "source": [
        "import pandas as pd\n",
        "\n",
        "url = 'https://raw.githubusercontent.com/dbonacorsi/AMLBas2324/main/pima-indians-diabetes.data.csv'\n",
        "\n",
        "names = ['preg', 'plas', 'pres', 'skin', 'test', 'mass', 'pedi', 'age', 'class']\n",
        "data = pd.read_csv(url, names=names)\n",
        "data"
      ]
    },
    {
      "cell_type": "markdown",
      "metadata": {
        "id": "OhmP1tgCjI95"
      },
      "source": [
        "## Univariate plots"
      ]
    },
    {
      "cell_type": "markdown",
      "metadata": {
        "id": "dJ2jH3U4jI96"
      },
      "source": [
        "### Histograms"
      ]
    },
    {
      "cell_type": "code",
      "execution_count": null,
      "metadata": {
        "id": "Doi_7wnrjxMC"
      },
      "outputs": [],
      "source": [
        "from matplotlib import pyplot"
      ]
    },
    {
      "cell_type": "code",
      "execution_count": null,
      "metadata": {
        "id": "vQxPDXbAjI9-",
        "scrolled": false
      },
      "outputs": [],
      "source": [
        "data.hist()\n",
        "pyplot.rcParams[\"figure.figsize\"] = [16,16]\n",
        "pyplot.show()"
      ]
    },
    {
      "cell_type": "markdown",
      "metadata": {
        "id": "n6I90-MiGYy8"
      },
      "source": [
        "---"
      ]
    },
    {
      "cell_type": "markdown",
      "metadata": {
        "id": "3dPnyPdBjI-B"
      },
      "source": [
        "### <font color=red>Exercise 1</font>"
      ]
    },
    {
      "cell_type": "markdown",
      "metadata": {
        "id": "lHMXoob4jI-C"
      },
      "source": [
        "Compare what you see here, with what you saw as non-viz data exploration in the previous notebook. Where are you most familiar? The first, the second, or by using both?\n",
        "\n",
        "Do you have additional observations from these plots, that you did not make over textual descriptive statistics?"
      ]
    },
    {
      "cell_type": "markdown",
      "metadata": {
        "id": "v4b7soFzGaub"
      },
      "source": [
        "---"
      ]
    },
    {
      "cell_type": "markdown",
      "metadata": {
        "id": "6Lc1aoQWjI-C"
      },
      "source": [
        "### Density plots"
      ]
    },
    {
      "cell_type": "code",
      "execution_count": null,
      "metadata": {
        "id": "QQfnpOmDjI-D"
      },
      "outputs": [],
      "source": [
        "from matplotlib import pyplot"
      ]
    },
    {
      "cell_type": "code",
      "execution_count": null,
      "metadata": {
        "id": "oAsdNj2MjI-F",
        "scrolled": false
      },
      "outputs": [],
      "source": [
        "data.plot(kind='density', subplots=True, layout=(3,3), sharex=False)\n",
        "pyplot.show()"
      ]
    },
    {
      "cell_type": "markdown",
      "metadata": {
        "id": "qmEnCXqEjI-H"
      },
      "source": [
        "### Box and Whisker plots"
      ]
    },
    {
      "cell_type": "code",
      "execution_count": null,
      "metadata": {
        "id": "LffXJUsHjI-I",
        "scrolled": true
      },
      "outputs": [],
      "source": [
        "data.plot(kind='box', subplots=True, layout=(3,3), sharex=False, sharey=False)\n",
        "pyplot.show()"
      ]
    },
    {
      "cell_type": "code",
      "execution_count": null,
      "metadata": {
        "id": "9J7wxCv8makh"
      },
      "outputs": [],
      "source": [
        "### upload -> BoxAndWhiskers.png\n",
        "from google.colab import files\n",
        "uploaded = files.upload()"
      ]
    },
    {
      "cell_type": "code",
      "execution_count": null,
      "metadata": {
        "id": "h70JJTh9jI-Q"
      },
      "outputs": [],
      "source": [
        "from IPython.display import Image\n",
        "Image(filename='/content/BoxAndWhiskers.png')"
      ]
    },
    {
      "cell_type": "markdown",
      "metadata": {
        "id": "v36WUM6EjI-T"
      },
      "source": [
        "## Multivariate plots\n",
        "They show the interactions between multiple variables in your dataset."
      ]
    },
    {
      "cell_type": "markdown",
      "metadata": {
        "id": "nZ-vHELNjI-T"
      },
      "source": [
        "### Correlation matrix plots"
      ]
    },
    {
      "cell_type": "code",
      "execution_count": null,
      "metadata": {
        "id": "geMu0f7wjI-U"
      },
      "outputs": [],
      "source": [
        "from matplotlib import pyplot\n",
        "import numpy"
      ]
    },
    {
      "cell_type": "code",
      "execution_count": null,
      "metadata": {
        "id": "YAOufxZ7jI-X",
        "scrolled": true
      },
      "outputs": [],
      "source": [
        "correlations = data.corr()\n",
        "correlations"
      ]
    },
    {
      "cell_type": "code",
      "execution_count": null,
      "metadata": {
        "id": "Hp5vVh4rjI-Z"
      },
      "outputs": [],
      "source": [
        "# plot correlation matrix\n",
        "fig = pyplot.figure()\n",
        "ax = fig.add_subplot(111)\n",
        "cax = ax.matshow(correlations, vmin=-1, vmax=1)\n",
        "fig.colorbar(cax)\n",
        "ticks = numpy.arange(0,9,1)\n",
        "ax.set_xticks(ticks)\n",
        "ax.set_yticks(ticks)\n",
        "ax.set_xticklabels(names)\n",
        "ax.set_yticklabels(names)\n",
        "pyplot.show()"
      ]
    },
    {
      "cell_type": "markdown",
      "metadata": {
        "id": "QU1GyGhljI-b"
      },
      "source": [
        "### Scatter plot matrix"
      ]
    },
    {
      "cell_type": "code",
      "execution_count": null,
      "metadata": {
        "id": "7nMJfPCpjI-c"
      },
      "outputs": [],
      "source": [
        "from pandas.plotting import scatter_matrix"
      ]
    },
    {
      "cell_type": "code",
      "execution_count": null,
      "metadata": {
        "id": "aHuQm6yajI-e"
      },
      "outputs": [],
      "source": [
        "scatter_matrix(data)\n",
        "pyplot.show()"
      ]
    },
    {
      "cell_type": "markdown",
      "metadata": {
        "id": "2OX1Be67oPvi"
      },
      "source": [
        "### <font color=red>Exercise 2</font>"
      ]
    },
    {
      "cell_type": "markdown",
      "metadata": {
        "id": "cTzyRp6eoPvm"
      },
      "source": [
        "Do you spot something interesting in the data by visualizing it in this way?"
      ]
    },
    {
      "cell_type": "markdown",
      "metadata": {
        "id": "0HqxCWPKo7qF"
      },
      "source": [
        "### <font color=red>Exercise 3</font>"
      ]
    },
    {
      "cell_type": "markdown",
      "metadata": {
        "id": "yps7g9DMo7gn"
      },
      "source": [
        "Try to review previous and current notebooks, and think how to produce a new one of your own that would eventually digest all exploration-related tasks (both textually and visually), on a generic CSV file in input, in one shot. Some hints:\n",
        "* Stay clean\n",
        "* Focus on instructions you need, avoid unecessary ones\n",
        "* be careful on indentation of notebook sections\n",
        "* test it by trying `Runtime` -> `Run all` in the GUI menu\n",
        "\n",
        "This is not wasted time: if you do it cleanly and usefully, you might end up in expand it further and re-use it often!"
      ]
    },
    {
      "cell_type": "markdown",
      "metadata": {
        "id": "A4B7JtvsjI-g"
      },
      "source": [
        "## Summary"
      ]
    },
    {
      "cell_type": "markdown",
      "metadata": {
        "id": "sS3R1pLujI-g"
      },
      "source": [
        "What we did:\n",
        "\n",
        "* we familiarized with 5 quick ways to visually explore your dataset\n",
        "* each of these plots, in any basic data analysis plotting system, would have required PLENTY of time to do just 1 plot! We can do it quickly exploiting Pandas and Matplotlib."
      ]
    },
    {
      "cell_type": "markdown",
      "metadata": {
        "collapsed": true,
        "id": "vxTncDJFjI-h"
      },
      "source": [
        "## What's next"
      ]
    },
    {
      "cell_type": "markdown",
      "metadata": {
        "collapsed": true,
        "id": "5yVNvP2qjI-i"
      },
      "source": [
        "Let's start to manipulate the data: we need to prepare the data to best expose the structure of your problem to modeling algorithms."
      ]
    }
  ],
  "metadata": {
    "colab": {
      "provenance": []
    },
    "kernelspec": {
      "display_name": "Python 2",
      "language": "python",
      "name": "python2"
    },
    "language_info": {
      "codemirror_mode": {
        "name": "ipython",
        "version": 2
      },
      "file_extension": ".py",
      "mimetype": "text/x-python",
      "name": "python",
      "nbconvert_exporter": "python",
      "pygments_lexer": "ipython2",
      "version": "2.7.13"
    }
  },
  "nbformat": 4,
  "nbformat_minor": 0
}