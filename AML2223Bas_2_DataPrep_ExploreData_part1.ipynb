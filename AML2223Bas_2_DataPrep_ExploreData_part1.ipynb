{
  "nbformat": 4,
  "nbformat_minor": 0,
  "metadata": {
    "kernelspec": {
      "display_name": "Python 2",
      "language": "python",
      "name": "python2"
    },
    "language_info": {
      "codemirror_mode": {
        "name": "ipython",
        "version": 2
      },
      "file_extension": ".py",
      "mimetype": "text/x-python",
      "name": "python",
      "nbconvert_exporter": "python",
      "pygments_lexer": "ipython2",
      "version": "2.7.13"
    },
    "colab": {
      "provenance": [],
      "collapsed_sections": [
        "yXKVEUMGeKyp"
      ]
    }
  },
  "cells": [
    {
      "cell_type": "markdown",
      "metadata": {
        "id": "yi3UrY_7eKyE"
      },
      "source": [
        "# Explore your data with descriptive statistics"
      ]
    },
    {
      "cell_type": "markdown",
      "metadata": {
        "id": "8VbDAVC7eKyF"
      },
      "source": [
        "***The time spent in understanding your data (BEFORE APPLYING ANY ML TECHNIQUES) is time well spent***.\n",
        "\n",
        "Suggestions and guidelines may differ, but here is what we use as a checklist:\n",
        "\n",
        "1. Look at the raw data\n",
        "1. Dimensions\n",
        "1. Data types\n",
        "1. Descriptive statistics\n",
        "1. Distribution of instances across classes\n",
        "1. Correlations\n",
        "1. Skews"
      ]
    },
    {
      "cell_type": "markdown",
      "metadata": {
        "id": "IEAc3YoHeKyI"
      },
      "source": [
        "## 1. Raw data"
      ]
    },
    {
      "cell_type": "code",
      "metadata": {
        "id": "4bzJ5m6we73m"
      },
      "source": [
        "import pandas as pd\n",
        "\n",
        "url = 'https://raw.githubusercontent.com/dbonacorsi/AMLBas2324/main/pima-indians-diabetes.data.csv'\n",
        "\n",
        "names = ['preg', 'plas', 'pres', 'skin', 'test', 'mass', 'pedi', 'age', 'class']\n",
        "data = pd.read_csv(url, names=names)\n",
        "data"
      ],
      "execution_count": null,
      "outputs": []
    },
    {
      "source": [
        "# @title plas vs pres\n",
        "\n",
        "from matplotlib import pyplot as plt\n",
        "data.plot(kind='scatter', x='plas', y='pres', s=32, alpha=.8)\n",
        "plt.gca().spines[['top', 'right',]].set_visible(False)"
      ],
      "cell_type": "code",
      "execution_count": null,
      "outputs": [],
      "metadata": {
        "id": "4yKWNNOBeZq3"
      }
    },
    {
      "cell_type": "markdown",
      "metadata": {
        "id": "P2rf_G3leKyU"
      },
      "source": [
        "More details can be found e.g. at https://www.kaggle.com/uciml/pima-indians-diabetes-database/data, and are summarized below:\n",
        "\n",
        "    Pregnancies = Number of times pregnant\n",
        "    Glucose = Plasma glucose concentration a 2 hours in an oral glucose tolerance test numeric\n",
        "    BloodPressure = Diastolic blood pressure (mm Hg)\n",
        "    SkinThickness = Triceps skin fold thickness (mm)\n",
        "    Insulin = 2-Hour serum insulin (mu U/ml)\n",
        "    BMI = Body mass index (weight in kg/(height in m)^2)\n",
        "    DiabetesPedigreeFunction = Diabetes pedigree function\n",
        "    Age = Age (years)\n",
        "    Outcome = Class variable (0 or 1)"
      ]
    },
    {
      "cell_type": "markdown",
      "metadata": {
        "id": "v1YMBt7neKyU"
      },
      "source": [
        "## 2. Dimensions"
      ]
    },
    {
      "cell_type": "code",
      "metadata": {
        "id": "qDqbhjG-eKyV"
      },
      "source": [
        "shape = data.shape\n",
        "shape"
      ],
      "execution_count": null,
      "outputs": []
    },
    {
      "cell_type": "markdown",
      "metadata": {
        "id": "GR8yH8gieKyX"
      },
      "source": [
        "## 3. Data types"
      ]
    },
    {
      "cell_type": "code",
      "metadata": {
        "id": "ZQVaTqTseKyZ"
      },
      "source": [
        "types = data.dtypes\n",
        "print(types)"
      ],
      "execution_count": null,
      "outputs": []
    },
    {
      "cell_type": "markdown",
      "metadata": {
        "id": "tQxh5K31eKyc"
      },
      "source": [
        "## 4. Descriptive statistics"
      ]
    },
    {
      "cell_type": "markdown",
      "metadata": {
        "id": "mgOq3y0Mf0qG"
      },
      "source": [
        "Help on pandas set_option [here](https://pandas.pydata.org/pandas-docs/stable/reference/api/pandas.set_option.html).\n"
      ]
    },
    {
      "cell_type": "code",
      "metadata": {
        "id": "FEJVkI7YeKyc"
      },
      "source": [
        "from pandas import set_option\n",
        "\n",
        "set_option('display.width', 200)\n",
        "set_option('display.max_rows', 500)\n",
        "set_option('display.max_columns', 500)\n",
        "#set_option('precision', 3)"
      ],
      "execution_count": null,
      "outputs": []
    },
    {
      "cell_type": "code",
      "metadata": {
        "id": "SgoVWYfXeKye"
      },
      "source": [
        "description = data.describe()\n",
        "print(description)"
      ],
      "execution_count": null,
      "outputs": []
    },
    {
      "cell_type": "markdown",
      "metadata": {
        "id": "vFhwujiAuSCV"
      },
      "source": [
        "What can we learn from this simple overview of our data?\n",
        "*   Are there missing entries anywhere?\n",
        "*   Are the values of the features on the same scales?\n"
      ]
    },
    {
      "cell_type": "markdown",
      "metadata": {
        "id": "w8Nbo0iteKyg"
      },
      "source": [
        "## 5. Class distribution\n",
        "(only for classification problems)"
      ]
    },
    {
      "cell_type": "code",
      "metadata": {
        "id": "9_Iw1fWieKyh"
      },
      "source": [
        "class_counts = data.groupby('class').size()\n",
        "print(class_counts)"
      ],
      "execution_count": null,
      "outputs": []
    },
    {
      "cell_type": "markdown",
      "metadata": {
        "id": "pHX3Gv7neKyj"
      },
      "source": [
        "## 6. Correlations between attributes"
      ]
    },
    {
      "cell_type": "code",
      "metadata": {
        "id": "sOgz4w_ZeKyk"
      },
      "source": [
        "set_option('display.width', 100)\n",
        "#set_option('precision', 3)\n",
        "\n",
        "correlations = data.corr(method='pearson')\n",
        "correlations"
      ],
      "execution_count": null,
      "outputs": []
    },
    {
      "cell_type": "markdown",
      "metadata": {
        "id": "faK8aUlOeKym"
      },
      "source": [
        "## 7. Skew of Univariate Distributions"
      ]
    },
    {
      "cell_type": "code",
      "metadata": {
        "id": "sSWpi84weKym"
      },
      "source": [
        "skew = data.skew()\n",
        "print(skew)"
      ],
      "execution_count": null,
      "outputs": []
    },
    {
      "cell_type": "markdown",
      "metadata": {
        "id": "m6AJvndSeKyo"
      },
      "source": [
        "## Summary"
      ]
    },
    {
      "cell_type": "markdown",
      "metadata": {
        "id": "Spz--i03eKyp"
      },
      "source": [
        "What we did:\n",
        "\n",
        "* we familiarized with some quick ways to have a glance at my dataset and try to describe and summarize it statistically\n",
        "* we implemented these concepts by exploiting Pandas' functionalities: easy, basically one command each.\n",
        "* remember to look carefully at the numbers, ask yourself questions as of whether things are as you see them, and note down evertything that comes to mind as it might well be useful at a later stage!"
      ]
    },
    {
      "cell_type": "markdown",
      "metadata": {
        "collapsed": true,
        "id": "yXKVEUMGeKyp"
      },
      "source": [
        "## What's next"
      ]
    },
    {
      "cell_type": "markdown",
      "metadata": {
        "collapsed": true,
        "id": "6F4dybvyeKyp"
      },
      "source": [
        "We did what we did with numbers. ***Isn't it frustrating?*** Time to make it with visualizations!"
      ]
    }
  ]
}